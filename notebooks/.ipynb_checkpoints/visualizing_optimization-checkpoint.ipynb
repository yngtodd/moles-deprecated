{
 "cells": [
  {
   "cell_type": "code",
   "execution_count": 7,
   "metadata": {
    "collapsed": true
   },
   "outputs": [],
   "source": [
    "from hyperspace.kepler.data_utils import load_results\n",
    "from hyperspace.kepler.plots import plot_convergence\n",
    "\n",
    "from skopt.plots import plot_objective "
   ]
  },
  {
   "cell_type": "code",
   "execution_count": 8,
   "metadata": {
    "collapsed": true
   },
   "outputs": [],
   "source": [
    "def objective(space):\n",
    "    # New setting for each hyperparameter;\n",
    "    dense_neurons,feature_maps,latent_dim,conv_layers,filter_shapes = space;\n",
    "    # parameters for model;\n",
    "    channels = 1;\n",
    "    feature_maps = [feature_maps]*conv_layers;\n",
    "    filter_shapes = [(filter_shapes,filter_shapes)]*conv_layers;\n",
    "    dense_layers = 1;\n",
    "    dense_neurons = [dense_neurons];\n",
    "    strides = [(1,1),(2,2),(1,1),(1,1)];\n",
    "    strides = strides[0:conv_layers];\n",
    "    dense_dropouts = [0];\n",
    "    epochs = 15;\n",
    "    batch_size = 100;\n",
    "    #print(\"parameters selected:\");\n",
    "    #print(image_size,channels,conv_layers,feature_maps,filter_shapes,strides,dense_layers,dense_neurons,\n",
    "    #    dense_dropouts,latent_dim);\n",
    "    # build model;\n",
    "    autoencoder = conv_variational_autoencoder(image_size,channels,conv_layers,feature_maps, filter_shapes,strides,\n",
    "        dense_layers,dense_neurons,dense_dropouts,latent_dim);\n",
    "        # train;\n",
    "    autoencoder.train(X_train[0:],batch_size,epochs=epochs,\n",
    "                            validation_data=(X_test[0:],X_test[0:]),\n",
    "                            checkpoint=False);\n",
    "    # loss function;\n",
    "    avg_loss = np.mean(autoencoder.history.val_losses[-10:]);\n",
    "    return avg_loss;"
   ]
  },
  {
   "cell_type": "code",
   "execution_count": 9,
   "metadata": {
    "collapsed": true
   },
   "outputs": [],
   "source": [
    "from skopt.callbacks import EarlyStopper\n",
    "import math\n",
    "\n",
    "class NanStopper(EarlyStopper):\n",
    "    \"\"\"Stop the optimization if the `n_best` minima are within `delta`\n",
    "    Stop the optimizer if the absolute difference between the `n_best`\n",
    "    objective values is less than `delta`.\n",
    "    \"\"\"\n",
    "    def __init__(self):\n",
    "        super(EarlyStopper, self).__init__()\n",
    "\n",
    "    def _criterion(self, result):\n",
    "        if math.isnan(result.func_vals[-1]):\n",
    "            result.func_vals[-1] = 10000\n",
    "            result.fun = 10000\n",
    "\n",
    "            # worst is always larger, so no need for abs()\n",
    "            return True\n",
    "\n",
    "        else:\n",
    "            return None\n",
    "\n",
    "class ErrorStopper(EarlyStopper):\n",
    "    \"\"\"Stop the optimization if the `n_best` minima are within `delta`\n",
    "    Stop the optimizer if the absolute difference between the `n_best`\n",
    "    objective values is less than `delta`.\n",
    "    \"\"\"\n",
    "    def __init__(self):\n",
    "        super(EarlyStopper, self).__init__()\n",
    "\n",
    "    def _criterion(self, result):\n",
    "        if ValueError:\n",
    "            dump(result, './early_stop/result.pkl')\n",
    "            return True\n",
    "\n",
    "        else:\n",
    "            return None"
   ]
  },
  {
   "cell_type": "code",
   "execution_count": 10,
   "metadata": {
    "collapsed": true
   },
   "outputs": [],
   "source": [
    "results = load_results(results_path='../optim_results/1fme')"
   ]
  },
  {
   "cell_type": "code",
   "execution_count": 6,
   "metadata": {},
   "outputs": [
    {
     "data": {
      "text/plain": [
       "[          fun: 24.308955520982188\n",
       "    func_vals: array([29.24889193, 77.06312488, 46.05747379, 32.70120532, 40.45428934,\n",
       "       40.40641106, 59.6724229 , 50.49662665, 53.47988652, 39.1791781 ,\n",
       "       29.15973625, 46.31159362, 25.43645522, 28.07797935, 47.45411296,\n",
       "       27.07055831, 24.30895552, 24.35363202, 27.49988646, 40.42202239])\n",
       "       models: [GaussianProcessRegressor(alpha=1e-10, copy_X_train=True,\n",
       "             kernel=1**2 * Matern(length_scale=[1, 1, 1, 1, 1], nu=2.5) + WhiteKernel(noise_level=1),\n",
       "             n_restarts_optimizer=2, noise='gaussian', normalize_y=True,\n",
       "             optimizer='fmin_l_bfgs_b', random_state=209652396), GaussianProcessRegressor(alpha=1e-10, copy_X_train=True,\n",
       "             kernel=1**2 * Matern(length_scale=[1, 1, 1, 1, 1], nu=2.5) + WhiteKernel(noise_level=1),\n",
       "             n_restarts_optimizer=2, noise='gaussian', normalize_y=True,\n",
       "             optimizer='fmin_l_bfgs_b', random_state=209652396), GaussianProcessRegressor(alpha=1e-10, copy_X_train=True,\n",
       "             kernel=1**2 * Matern(length_scale=[1, 1, 1, 1, 1], nu=2.5) + WhiteKernel(noise_level=1),\n",
       "             n_restarts_optimizer=2, noise='gaussian', normalize_y=True,\n",
       "             optimizer='fmin_l_bfgs_b', random_state=209652396), GaussianProcessRegressor(alpha=1e-10, copy_X_train=True,\n",
       "             kernel=1**2 * Matern(length_scale=[1, 1, 1, 1, 1], nu=2.5) + WhiteKernel(noise_level=1),\n",
       "             n_restarts_optimizer=2, noise='gaussian', normalize_y=True,\n",
       "             optimizer='fmin_l_bfgs_b', random_state=209652396), GaussianProcessRegressor(alpha=1e-10, copy_X_train=True,\n",
       "             kernel=1**2 * Matern(length_scale=[1, 1, 1, 1, 1], nu=2.5) + WhiteKernel(noise_level=1),\n",
       "             n_restarts_optimizer=2, noise='gaussian', normalize_y=True,\n",
       "             optimizer='fmin_l_bfgs_b', random_state=209652396), GaussianProcessRegressor(alpha=1e-10, copy_X_train=True,\n",
       "             kernel=1**2 * Matern(length_scale=[1, 1, 1, 1, 1], nu=2.5) + WhiteKernel(noise_level=1),\n",
       "             n_restarts_optimizer=2, noise='gaussian', normalize_y=True,\n",
       "             optimizer='fmin_l_bfgs_b', random_state=209652396), GaussianProcessRegressor(alpha=1e-10, copy_X_train=True,\n",
       "             kernel=1**2 * Matern(length_scale=[1, 1, 1, 1, 1], nu=2.5) + WhiteKernel(noise_level=1),\n",
       "             n_restarts_optimizer=2, noise='gaussian', normalize_y=True,\n",
       "             optimizer='fmin_l_bfgs_b', random_state=209652396), GaussianProcessRegressor(alpha=1e-10, copy_X_train=True,\n",
       "             kernel=1**2 * Matern(length_scale=[1, 1, 1, 1, 1], nu=2.5) + WhiteKernel(noise_level=1),\n",
       "             n_restarts_optimizer=2, noise='gaussian', normalize_y=True,\n",
       "             optimizer='fmin_l_bfgs_b', random_state=209652396), GaussianProcessRegressor(alpha=1e-10, copy_X_train=True,\n",
       "             kernel=1**2 * Matern(length_scale=[1, 1, 1, 1, 1], nu=2.5) + WhiteKernel(noise_level=1),\n",
       "             n_restarts_optimizer=2, noise='gaussian', normalize_y=True,\n",
       "             optimizer='fmin_l_bfgs_b', random_state=209652396), GaussianProcessRegressor(alpha=1e-10, copy_X_train=True,\n",
       "             kernel=1**2 * Matern(length_scale=[1, 1, 1, 1, 1], nu=2.5) + WhiteKernel(noise_level=1),\n",
       "             n_restarts_optimizer=2, noise='gaussian', normalize_y=True,\n",
       "             optimizer='fmin_l_bfgs_b', random_state=209652396), GaussianProcessRegressor(alpha=1e-10, copy_X_train=True,\n",
       "             kernel=1**2 * Matern(length_scale=[1, 1, 1, 1, 1], nu=2.5) + WhiteKernel(noise_level=1),\n",
       "             n_restarts_optimizer=2, noise='gaussian', normalize_y=True,\n",
       "             optimizer='fmin_l_bfgs_b', random_state=209652396)]\n",
       " random_state: <mtrand.RandomState object at 0x10a4bc1f8>\n",
       "        space: Space([Integer(low=32, high=64),\n",
       "       Integer(low=16, high=100),\n",
       "       Integer(low=2, high=10),\n",
       "       Integer(low=1, high=4),\n",
       "       Integer(low=2, high=5)])\n",
       "        specs: {'function': 'base_minimize', 'args': {'x0': None, 'xi': 0.01, 'y0': None, 'random_state': <mtrand.RandomState object at 0x10a4bc1f8>, 'base_estimator': GaussianProcessRegressor(alpha=1e-10, copy_X_train=True,\n",
       "             kernel=1**2 * Matern(length_scale=[1, 1, 1, 1, 1], nu=2.5),\n",
       "             n_restarts_optimizer=2, noise='gaussian', normalize_y=True,\n",
       "             optimizer='fmin_l_bfgs_b', random_state=209652396), 'acq_optimizer': 'auto', 'n_points': 10000, 'dimensions': Space([Integer(low=32, high=64),\n",
       "       Integer(low=16, high=100),\n",
       "       Integer(low=2, high=10),\n",
       "       Integer(low=1, high=4),\n",
       "       Integer(low=2, high=5)]), 'n_calls': 20, 'kappa': 1.96, 'acq_func': 'gp_hedge', 'n_restarts_optimizer': 5, 'func': <function objective at 0x105dbbbf8>, 'verbose': True, 'n_random_starts': 10, 'n_jobs': 1, 'callback': <safety_callback.NanStopper object at 0x10a8a0c18>}}\n",
       "            x: [64, 100, 10, 4, 5]\n",
       "      x_iters: [[51, 87, 9, 4, 4], [44, 41, 2, 2, 3], [58, 56, 5, 4, 3], [53, 47, 10, 1, 5], [47, 83, 6, 3, 4], [51, 61, 8, 1, 3], [38, 78, 4, 1, 3], [37, 35, 5, 4, 3], [52, 92, 3, 4, 4], [37, 46, 8, 3, 3], [52, 89, 9, 4, 4], [32, 100, 10, 1, 2], [64, 75, 10, 4, 5], [64, 76, 9, 4, 5], [32, 16, 7, 4, 5], [64, 66, 10, 4, 5], [64, 100, 10, 4, 5], [64, 97, 10, 4, 5], [32, 100, 10, 4, 5], [64, 16, 10, 1, 2]]]"
      ]
     },
     "execution_count": 6,
     "metadata": {},
     "output_type": "execute_result"
    }
   ],
   "source": [
    "results"
   ]
  },
  {
   "cell_type": "code",
   "execution_count": null,
   "metadata": {
    "collapsed": true
   },
   "outputs": [],
   "source": []
  }
 ],
 "metadata": {
  "kernelspec": {
   "display_name": "Python 3",
   "language": "python",
   "name": "python3"
  },
  "language_info": {
   "codemirror_mode": {
    "name": "ipython",
    "version": 3
   },
   "file_extension": ".py",
   "mimetype": "text/x-python",
   "name": "python",
   "nbconvert_exporter": "python",
   "pygments_lexer": "ipython3",
   "version": "3.6.3"
  }
 },
 "nbformat": 4,
 "nbformat_minor": 2
}
