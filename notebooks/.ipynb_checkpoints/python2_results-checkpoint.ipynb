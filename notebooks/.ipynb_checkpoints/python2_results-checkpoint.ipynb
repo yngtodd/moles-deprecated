{
 "cells": [
  {
   "cell_type": "code",
   "execution_count": null,
   "metadata": {
    "collapsed": true
   },
   "outputs": [],
   "source": [
    "#from hyperspace.kepler.data_utils import load_results\n",
    "from hyperspace.kepler.plots import plot_convergence\n",
    "\n",
    "from skopt.plots import plot_objective \n",
    "import matplotlib.pyplot as plt\n",
    "from matplotlib.pyplot import savefig\n",
    "import pickle\n",
    "\n",
    "import matplotlib\n",
    "matplotlib.rcParams['figure.figsize']=[12, 12]\n",
    "%matplotlib inline"
   ]
  },
  {
   "cell_type": "code",
   "execution_count": null,
   "metadata": {
    "collapsed": true
   },
   "outputs": [],
   "source": [
    "def objective(space):\n",
    "    # New setting for each hyperparameter;\n",
    "    dense_neurons,feature_maps,latent_dim,conv_layers,filter_shapes = space;\n",
    "    # parameters for model;\n",
    "    channels = 1;\n",
    "    feature_maps = [feature_maps]*conv_layers;\n",
    "    filter_shapes = [(filter_shapes,filter_shapes)]*conv_layers;\n",
    "    dense_layers = 1;\n",
    "    dense_neurons = [dense_neurons];\n",
    "    strides = [(1,1),(2,2),(1,1),(1,1)];\n",
    "    strides = strides[0:conv_layers];\n",
    "    dense_dropouts = [0];\n",
    "    epochs = 15;\n",
    "    batch_size = 100;\n",
    "    #print(\"parameters selected:\");\n",
    "    #print(image_size,channels,conv_layers,feature_maps,filter_shapes,strides,dense_layers,dense_neurons,\n",
    "    #    dense_dropouts,latent_dim);\n",
    "    # build model;\n",
    "    autoencoder = conv_variational_autoencoder(image_size,channels,conv_layers,feature_maps, filter_shapes,strides,\n",
    "        dense_layers,dense_neurons,dense_dropouts,latent_dim);\n",
    "        # train;\n",
    "    autoencoder.train(X_train[0:],batch_size,epochs=epochs,\n",
    "                            validation_data=(X_test[0:],X_test[0:]),\n",
    "                            checkpoint=False);\n",
    "    # loss function;\n",
    "    avg_loss = np.mean(autoencoder.history.val_losses[-10:]);\n",
    "    return avg_loss;"
   ]
  },
  {
   "cell_type": "code",
   "execution_count": null,
   "metadata": {
    "collapsed": true
   },
   "outputs": [],
   "source": []
  }
 ],
 "metadata": {
  "kernelspec": {
   "display_name": "Python 2",
   "language": "python",
   "name": "python2"
  }
 },
 "nbformat": 4,
 "nbformat_minor": 2
}
